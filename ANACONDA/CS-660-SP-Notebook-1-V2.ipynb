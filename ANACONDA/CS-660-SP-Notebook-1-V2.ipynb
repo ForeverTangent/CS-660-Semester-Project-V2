{
 "cells": [
  {
   "cell_type": "markdown",
   "metadata": {},
   "source": [
    "# CS-660 Semester Project Notebook 1\n",
    "\n",
    "## Stan Rosenbaum\n",
    "\n",
    "Fall 2017\n",
    "\n",
    "Anaconda 5 / Python 3\n",
    "\n",
    "Using Keras with TensorFlow as back end.\n"
   ]
  },
  {
   "cell_type": "markdown",
   "metadata": {},
   "source": [
    "First we init stuff."
   ]
  },
  {
   "cell_type": "code",
   "execution_count": 1,
   "metadata": {},
   "outputs": [
    {
     "name": "stderr",
     "output_type": "stream",
     "text": [
      "Using TensorFlow backend.\n"
     ]
    },
    {
     "name": "stdout",
     "output_type": "stream",
     "text": [
      "CS660DataManagementCheck Imported\n"
     ]
    }
   ],
   "source": [
    "# Load the Basic Python Libraries\n",
    "import os\n",
    "import csv\n",
    "import PIL\n",
    "import pickle\n",
    "import random\n",
    "import datetime\n",
    "\n",
    "# Load my Data Management Module\n",
    "import CS660DataManagement as csDM\n",
    "\n",
    "# load numpy\n",
    "import numpy as np\n",
    "\n",
    "# Load Keras Studd\n",
    "from keras import layers\n",
    "from keras.layers import Input, Dense, Activation, ZeroPadding2D, BatchNormalization, Flatten, Conv2D\n",
    "from keras.layers import AveragePooling2D, MaxPooling2D, Dropout, GlobalMaxPooling2D, GlobalAveragePooling2D\n",
    "from keras.models import Model, Sequential\n",
    "from keras.preprocessing import image\n",
    "from keras.utils import layer_utils\n",
    "from keras.utils.data_utils import get_file\n",
    "from keras.applications.imagenet_utils import preprocess_input\n",
    "from keras.utils.vis_utils import model_to_dot\n",
    "from keras.utils import plot_model\n",
    "from keras.initializers import glorot_uniform\n",
    "\n",
    "from keras.callbacks import TensorBoard\n",
    "\n",
    "from keras.utils.np_utils import to_categorical\n",
    "\n",
    "\n",
    "\n",
    "# Other\n",
    "import pydot\n",
    "from IPython.display import SVG\n",
    "\n",
    "\n",
    "# Not sure what this is:\n",
    "# from kt_utils import *\n",
    "\n",
    "import keras.backend as K\n",
    "K.set_image_data_format('channels_last')\n",
    "import matplotlib.pyplot as plt\n",
    "from matplotlib.pyplot import imshow\n",
    "\n",
    "%matplotlib inline\n",
    "\n",
    "# Get Processed Data Directory.\n",
    "processedDataDir = os.path.join( os.getcwd(), os.pardir, 'DATA', 'PROCESSED' )\n",
    "combinedDataDir = os.path.join( os.getcwd(), os.pardir, 'DATA', 'COMBINED' )\n",
    "pickleDataDir = os.path.join( os.getcwd(), os.pardir, 'DATA', 'PICKLES' )\n",
    "\n",
    "testImageColorFile = os.path.join( os.getcwd(), os.pardir, 'DATA', 'COMBINED', 'ICOLOR', 'TEST.png' )\n",
    "testImageDepthFile = os.path.join( os.getcwd(), os.pardir, 'DATA', 'COMBINED', 'IDEPTH', 'TEST.png' )\n",
    "testCSVFile = os.path.join( os.getcwd(), os.pardir, 'DATA', 'COMBINED', 'PCLOUD', 'TEST.csv' )\n",
    "\n",
    "combinedDataDir = os.path.join( os.getcwd(), os.pardir, 'DATA', 'COMBINED' )\n",
    "\n",
    "imageDirs = ['ICOLOR', 'IDEPTH']\n",
    "csvDirs = ['PCLOUD']\n",
    "\n",
    "allDataFlavors = imageDirs + csvDirs\n",
    "\n",
    "#Load main data file.\n",
    "searCSVInfoFile = os.path.join( combinedDataDir, 'SEAR_DC_INFO.csv' )\n",
    "\n",
    "csDM.CS660DataManagementCheck()"
   ]
  },
  {
   "cell_type": "markdown",
   "metadata": {},
   "source": [
    "## Generate the Learning and Verification sets"
   ]
  },
  {
   "cell_type": "code",
   "execution_count": null,
   "metadata": {
    "collapsed": true
   },
   "outputs": [],
   "source": [
    "print( len( csDM.getListOfDataCSVFileKeys() ) )\n",
    "csDM.reportStats()\n",
    "#csDM.createLearningAndVerificationPickles()\n"
   ]
  },
  {
   "cell_type": "markdown",
   "metadata": {},
   "source": [
    "### Load a Training Set.\n",
    "#### (Basing this all on the Coursera Course Code)\n",
    "\n"
   ]
  },
  {
   "cell_type": "code",
   "execution_count": null,
   "metadata": {
    "collapsed": true
   },
   "outputs": [],
   "source": [
    "def reshape(trainingSet):\n",
    "    \"\"\"\n",
    "    This is to add the 'Channels' Dimension for Keras.\n",
    "    \"\"\"\n",
    "    getShape = trainingSet.shape\n",
    "    newShape = getShape + (1,)\n",
    "    return trainingSet.reshape(newShape)\n",
    "    \n",
    "\n",
    "X_train, Y_train, X_test, Y_test = csDM.load_dataset( '1', 'ICOLOR' )\n",
    "\n",
    "\n",
    "\n",
    "print (\"number of training examples = \" + str(X_train.shape[0]))\n",
    "print (\"number of test examples = \" + str(X_test.shape[0]))\n",
    "\n",
    "X_train = reshape(X_train)\n",
    "X_test = reshape(X_test)\n",
    "\n",
    "y_train_binary = to_categorical(Y_train, 4)\n",
    "y_test_binary = to_categorical(Y_test, 4)\n",
    "\n",
    "print (\"X_train shape: \" + str(X_train.shape))\n",
    "print (\"Y_train shape: \" + str(Y_train.shape))\n",
    "print (\"y_train_binary shape: \" + str(y_train_binary.shape))\n",
    "print (\"X_test shape: \" + str(X_test.shape))\n",
    "print (\"Y_test shape: \" + str(Y_test.shape))\n",
    "print (\"y_test_binary shape: \" + str(y_test_binary.shape))\n",
    "\n"
   ]
  },
  {
   "cell_type": "markdown",
   "metadata": {},
   "source": [
    "## 2 - Building a model in Keras\n",
    "\n"
   ]
  },
  {
   "cell_type": "code",
   "execution_count": null,
   "metadata": {
    "collapsed": true
   },
   "outputs": [],
   "source": [
    "csDM.CS660DataManagementCheck()"
   ]
  },
  {
   "cell_type": "code",
   "execution_count": 28,
   "metadata": {},
   "outputs": [
    {
     "name": "stdout",
     "output_type": "stream",
     "text": [
      "x_train shape: (100, 480, 640, 1)\n",
      "100 train samples\n",
      "20 test samples\n",
      "x_train shape: (100, 480, 640, 1)\n",
      "(100, 4) y_train shape\n",
      "(20, 4) y_test shape\n",
      "_________________________________________________________________\n",
      "Layer (type)                 Output Shape              Param #   \n",
      "=================================================================\n",
      "conv2d_17 (Conv2D)           (None, 159, 212, 5)       130       \n",
      "_________________________________________________________________\n",
      "max_pooling2d_17 (MaxPooling (None, 53, 70, 5)         0         \n",
      "_________________________________________________________________\n",
      "conv2d_18 (Conv2D)           (None, 51, 68, 10)        460       \n",
      "_________________________________________________________________\n",
      "max_pooling2d_18 (MaxPooling (None, 25, 34, 10)        0         \n",
      "_________________________________________________________________\n",
      "flatten_9 (Flatten)          (None, 8500)              0         \n",
      "_________________________________________________________________\n",
      "dense_41 (Dense)             (None, 512)               4352512   \n",
      "_________________________________________________________________\n",
      "batch_normalization_33 (Batc (None, 512)               2048      \n",
      "_________________________________________________________________\n",
      "activation_33 (Activation)   (None, 512)               0         \n",
      "_________________________________________________________________\n",
      "dropout_33 (Dropout)         (None, 512)               0         \n",
      "_________________________________________________________________\n",
      "dense_42 (Dense)             (None, 512)               262656    \n",
      "_________________________________________________________________\n",
      "batch_normalization_34 (Batc (None, 512)               2048      \n",
      "_________________________________________________________________\n",
      "activation_34 (Activation)   (None, 512)               0         \n",
      "_________________________________________________________________\n",
      "dropout_34 (Dropout)         (None, 512)               0         \n",
      "_________________________________________________________________\n",
      "dense_43 (Dense)             (None, 512)               262656    \n",
      "_________________________________________________________________\n",
      "batch_normalization_35 (Batc (None, 512)               2048      \n",
      "_________________________________________________________________\n",
      "activation_35 (Activation)   (None, 512)               0         \n",
      "_________________________________________________________________\n",
      "dropout_35 (Dropout)         (None, 512)               0         \n",
      "_________________________________________________________________\n",
      "dense_44 (Dense)             (None, 512)               262656    \n",
      "_________________________________________________________________\n",
      "batch_normalization_36 (Batc (None, 512)               2048      \n",
      "_________________________________________________________________\n",
      "activation_36 (Activation)   (None, 512)               0         \n",
      "_________________________________________________________________\n",
      "dropout_36 (Dropout)         (None, 512)               0         \n",
      "_________________________________________________________________\n",
      "dense_45 (Dense)             (None, 4)                 2052      \n",
      "=================================================================\n",
      "Total params: 5,151,314\n",
      "Trainable params: 5,147,218\n",
      "Non-trainable params: 4,096\n",
      "_________________________________________________________________\n"
     ]
    }
   ],
   "source": [
    "import keras\n",
    "from quiver_engine import server\n",
    "\n",
    "# input image dimensions\n",
    "img_rows, img_cols = 480, 640\n",
    "\n",
    "num_classes = 4\n",
    "\n",
    "x_train, y_train, x_test, y_test = csDM.load_dataset( '1', 'ICOLOR' )\n",
    "\n",
    "x_train = x_train.reshape(x_train.shape[0], img_rows, img_cols, 1)\n",
    "x_test = x_test.reshape(x_test.shape[0], img_rows, img_cols, 1)\n",
    "input_shape = (img_rows, img_cols, 1)\n",
    "\n",
    "x_train = x_train.astype('float32')\n",
    "x_test = x_test.astype('float32')\n",
    "print('x_train shape:', x_train.shape)\n",
    "print(x_train.shape[0], 'train samples')\n",
    "print(x_test.shape[0], 'test samples')\n",
    "\n",
    "# convert class vectors to binary class matrices\n",
    "y_train_as_category = to_categorical(y_train, num_classes)\n",
    "y_test_as_category = to_categorical(y_test, num_classes)\n",
    "\n",
    "\n",
    "x_train = x_train.astype('float32')\n",
    "x_test = x_test.astype('float32')\n",
    "print('x_train shape:', x_train.shape)\n",
    "print(y_train_as_category.shape, 'y_train shape')\n",
    "print(y_test_as_category.shape, 'y_test shape')\n",
    "\n",
    "\n",
    "\n",
    "def buildModel():\n",
    "\n",
    "    model = Sequential()\n",
    "\n",
    "    model.add(\n",
    "        Conv2D(5, \n",
    "               kernel_size=(5, 5),\n",
    "               strides=3,\n",
    "               activation='relu',\n",
    "               input_shape=input_shape\n",
    "              )\n",
    "    )\n",
    "    model.add(\n",
    "        MaxPooling2D(\n",
    "            pool_size=(3, 3)\n",
    "        )\n",
    "    )\n",
    "\n",
    "    model.add(\n",
    "        Conv2D(\n",
    "            10, \n",
    "            kernel_size=(3, 3),\n",
    "            strides=1,\n",
    "            activation='relu')\n",
    "    )\n",
    "    model.add(\n",
    "        MaxPooling2D(\n",
    "            pool_size=(2, 2)\n",
    "        )\n",
    "    )\n",
    "\n",
    "\n",
    "    model.add(Flatten())\n",
    "\n",
    "    for index in range(4):\n",
    "        model.add(Dense(512))\n",
    "        model.add(BatchNormalization())\n",
    "        model.add(Activation('relu'))\n",
    "        model.add(Dropout(0.25))\n",
    "\n",
    "\n",
    "    model.add(Dense(num_classes, activation='softmax'))\n",
    "\n",
    "    model.compile(\n",
    "        loss=keras.losses.categorical_crossentropy,\n",
    "        optimizer=keras.optimizers.Adam(),\n",
    "        metrics=['categorical_accuracy']\n",
    "    )\n",
    "\n",
    "    model.summary()\n",
    "\n",
    "    return model\n",
    "    \n",
    "# server.launch(model)\n",
    "\n",
    "model = buildModel()\n"
   ]
  },
  {
   "cell_type": "code",
   "execution_count": 29,
   "metadata": {},
   "outputs": [
    {
     "name": "stdout",
     "output_type": "stream",
     "text": [
      "Train on 100 samples, validate on 20 samples\n",
      "Epoch 1/32\n",
      "100/100 [==============================] - 1s - loss: 1.5077 - categorical_accuracy: 0.4200 - val_loss: 2.2786 - val_categorical_accuracy: 0.2500\n",
      "Epoch 2/32\n",
      "100/100 [==============================] - 1s - loss: 0.9731 - categorical_accuracy: 0.5300 - val_loss: 3.4030 - val_categorical_accuracy: 0.2500\n",
      "Epoch 3/32\n",
      "100/100 [==============================] - 1s - loss: 0.8746 - categorical_accuracy: 0.6800 - val_loss: 6.3880 - val_categorical_accuracy: 0.2500\n",
      "Epoch 4/32\n",
      "100/100 [==============================] - 1s - loss: 0.8111 - categorical_accuracy: 0.6200 - val_loss: 9.0293 - val_categorical_accuracy: 0.2500\n",
      "Epoch 5/32\n",
      "100/100 [==============================] - 1s - loss: 0.7847 - categorical_accuracy: 0.7100 - val_loss: 8.6053 - val_categorical_accuracy: 0.2500\n",
      "Epoch 6/32\n",
      "100/100 [==============================] - 1s - loss: 0.5981 - categorical_accuracy: 0.8000 - val_loss: 9.5201 - val_categorical_accuracy: 0.2500\n",
      "Epoch 7/32\n",
      "100/100 [==============================] - 1s - loss: 0.6979 - categorical_accuracy: 0.7100 - val_loss: 7.1454 - val_categorical_accuracy: 0.2500\n",
      "Epoch 8/32\n",
      "100/100 [==============================] - 1s - loss: 0.4733 - categorical_accuracy: 0.8400 - val_loss: 4.0693 - val_categorical_accuracy: 0.2500\n",
      "Epoch 9/32\n",
      "100/100 [==============================] - 1s - loss: 0.5771 - categorical_accuracy: 0.7900 - val_loss: 2.1962 - val_categorical_accuracy: 0.2500\n",
      "Epoch 10/32\n",
      "100/100 [==============================] - 1s - loss: 0.3121 - categorical_accuracy: 0.9000 - val_loss: 2.0296 - val_categorical_accuracy: 0.2500\n",
      "Epoch 11/32\n",
      "100/100 [==============================] - 1s - loss: 0.4135 - categorical_accuracy: 0.8400 - val_loss: 1.0792 - val_categorical_accuracy: 0.5000\n",
      "Epoch 12/32\n",
      "100/100 [==============================] - 1s - loss: 0.1700 - categorical_accuracy: 0.9300 - val_loss: 1.2293 - val_categorical_accuracy: 0.5000\n",
      "Epoch 13/32\n",
      "100/100 [==============================] - 1s - loss: 0.3200 - categorical_accuracy: 0.8700 - val_loss: 1.4025 - val_categorical_accuracy: 0.4000\n",
      "Epoch 14/32\n",
      "100/100 [==============================] - 1s - loss: 0.2107 - categorical_accuracy: 0.9300 - val_loss: 2.6823 - val_categorical_accuracy: 0.4500\n",
      "Epoch 15/32\n",
      "100/100 [==============================] - 1s - loss: 0.2422 - categorical_accuracy: 0.9600 - val_loss: 4.1286 - val_categorical_accuracy: 0.2500\n",
      "Epoch 16/32\n",
      "100/100 [==============================] - 1s - loss: 0.2496 - categorical_accuracy: 0.9000 - val_loss: 4.3292 - val_categorical_accuracy: 0.2500\n",
      "Epoch 17/32\n",
      "100/100 [==============================] - 1s - loss: 0.2862 - categorical_accuracy: 0.9400 - val_loss: 3.7627 - val_categorical_accuracy: 0.2500\n",
      "Epoch 18/32\n",
      "100/100 [==============================] - 1s - loss: 0.1440 - categorical_accuracy: 0.9700 - val_loss: 6.8173 - val_categorical_accuracy: 0.2500\n",
      "Epoch 19/32\n",
      "100/100 [==============================] - 1s - loss: 0.1583 - categorical_accuracy: 0.9500 - val_loss: 5.6924 - val_categorical_accuracy: 0.2500\n",
      "Epoch 20/32\n",
      "100/100 [==============================] - 1s - loss: 0.1749 - categorical_accuracy: 0.9000 - val_loss: 4.5008 - val_categorical_accuracy: 0.2500\n",
      "Epoch 21/32\n",
      "100/100 [==============================] - 1s - loss: 0.1917 - categorical_accuracy: 0.9200 - val_loss: 2.0884 - val_categorical_accuracy: 0.4000\n",
      "Epoch 22/32\n",
      "100/100 [==============================] - 1s - loss: 0.1841 - categorical_accuracy: 0.9400 - val_loss: 1.6141 - val_categorical_accuracy: 0.4500\n",
      "Epoch 23/32\n",
      "100/100 [==============================] - 1s - loss: 0.0682 - categorical_accuracy: 0.9700 - val_loss: 3.5857 - val_categorical_accuracy: 0.2500\n",
      "Epoch 24/32\n",
      "100/100 [==============================] - 1s - loss: 0.1395 - categorical_accuracy: 0.9400 - val_loss: 1.2420 - val_categorical_accuracy: 0.5500\n",
      "Epoch 25/32\n",
      "100/100 [==============================] - 1s - loss: 0.2529 - categorical_accuracy: 0.9400 - val_loss: 1.1386 - val_categorical_accuracy: 0.6000\n",
      "Epoch 26/32\n",
      "100/100 [==============================] - 1s - loss: 0.3021 - categorical_accuracy: 0.8600 - val_loss: 2.3903 - val_categorical_accuracy: 0.4500\n",
      "Epoch 27/32\n",
      "100/100 [==============================] - 1s - loss: 0.2113 - categorical_accuracy: 0.9400 - val_loss: 3.8804 - val_categorical_accuracy: 0.4500\n",
      "Epoch 28/32\n",
      "100/100 [==============================] - 1s - loss: 0.0860 - categorical_accuracy: 0.9700 - val_loss: 2.5128 - val_categorical_accuracy: 0.3500\n",
      "Epoch 29/32\n",
      "100/100 [==============================] - 1s - loss: 0.1681 - categorical_accuracy: 0.9200 - val_loss: 2.1770 - val_categorical_accuracy: 0.4500\n",
      "Epoch 30/32\n",
      "100/100 [==============================] - 1s - loss: 0.3777 - categorical_accuracy: 0.8900 - val_loss: 7.0456 - val_categorical_accuracy: 0.2500\n",
      "Epoch 31/32\n",
      "100/100 [==============================] - 1s - loss: 0.3372 - categorical_accuracy: 0.8900 - val_loss: 8.1005 - val_categorical_accuracy: 0.2500\n",
      "Epoch 32/32\n",
      "100/100 [==============================] - 1s - loss: 0.1903 - categorical_accuracy: 0.9500 - val_loss: 1.8063 - val_categorical_accuracy: 0.5000\n"
     ]
    },
    {
     "data": {
      "text/plain": [
       "<keras.callbacks.History at 0x13ec81d68>"
      ]
     },
     "execution_count": 29,
     "metadata": {},
     "output_type": "execute_result"
    }
   ],
   "source": [
    "TBoardCallback = keras.callbacks.TensorBoard(\n",
    "    log_dir='../TENSOR_LOGS/run_test', \n",
    "    histogram_freq=0,\n",
    "    write_graph=True,\n",
    "    write_images=True\n",
    ")\n",
    "\n",
    "model.fit(x_train,\n",
    "          y_train_as_category,\n",
    "          batch_size=16,\n",
    "          epochs=32,\n",
    "          verbose=1,\n",
    "          validation_data=(x_test, y_test_as_category),\n",
    "          callbacks = [TBoardCallback]\n",
    "         )\n"
   ]
  },
  {
   "cell_type": "code",
   "execution_count": 30,
   "metadata": {},
   "outputs": [
    {
     "name": "stdout",
     "output_type": "stream",
     "text": [
      "Test loss: 1.80631220341\n",
      "Test accuracy: 0.5\n",
      "Saved model to disk\n"
     ]
    }
   ],
   "source": [
    "score = model.evaluate(x_test, y_test_as_category, verbose=0)\n",
    "print('Test loss:', score[0])\n",
    "print('Test accuracy:', score[1])\n",
    "\n",
    "# serialize model to JSON\n",
    "model_json = model.to_json()\n",
    "with open(\"../MODELS/modelTEST.json\", \"w\") as json_file:\n",
    "    json_file.write(model_json)\n",
    "# serialize weights to HDF5\n",
    "model.save_weights(\"../WEIGHTS/modelTEST.h5\")\n",
    "print(\"Saved model to disk\")"
   ]
  },
  {
   "cell_type": "code",
   "execution_count": 31,
   "metadata": {},
   "outputs": [
    {
     "name": "stdout",
     "output_type": "stream",
     "text": [
      "(20, 480, 640, 1)\n",
      "20/20 [==============================] - 0s\n",
      "[3 1 1 1 1 1 1 1 1 0 1 3 3 3 3 3 1 0 1 1]\n",
      "prediction of:  3  VS  [ 2.]\n",
      "prediction of:  1  VS  [ 2.]\n",
      "prediction of:  1  VS  [ 1.]\n",
      "prediction of:  1  VS  [ 2.]\n",
      "prediction of:  1  VS  [ 1.]\n",
      "prediction of:  1  VS  [ 1.]\n",
      "prediction of:  1  VS  [ 2.]\n",
      "prediction of:  1  VS  [ 0.]\n",
      "prediction of:  1  VS  [ 1.]\n",
      "prediction of:  0  VS  [ 1.]\n",
      "prediction of:  1  VS  [ 2.]\n",
      "prediction of:  3  VS  [ 3.]\n",
      "prediction of:  3  VS  [ 3.]\n",
      "prediction of:  3  VS  [ 3.]\n",
      "prediction of:  3  VS  [ 3.]\n",
      "prediction of:  3  VS  [ 3.]\n",
      "prediction of:  1  VS  [ 0.]\n",
      "prediction of:  0  VS  [ 0.]\n",
      "prediction of:  1  VS  [ 0.]\n",
      "prediction of:  1  VS  [ 0.]\n"
     ]
    }
   ],
   "source": [
    "# Predict\n",
    "print(x_test.shape)\n",
    "results = model.predict_classes(x_test, verbose=1)\n",
    "print(results)\n",
    "for index in range(len(x_test)):\n",
    "    print('prediction of: ', results[index], \" VS \", y_test[index])\n",
    "\n"
   ]
  },
  {
   "cell_type": "code",
   "execution_count": 57,
   "metadata": {},
   "outputs": [
    {
     "name": "stdout",
     "output_type": "stream",
     "text": [
      "\n"
     ]
    }
   ],
   "source": [
    "plot_model(model, to_file='ModelTEST.png')\n",
    "# SVG(model_to_dot(model).create(prog='dot', format='svg'))\n",
    "print(\"\")"
   ]
  },
  {
   "cell_type": "code",
   "execution_count": 6,
   "metadata": {},
   "outputs": [
    {
     "name": "stdout",
     "output_type": "stream",
     "text": [
      "Saved model to disk\n"
     ]
    }
   ],
   "source": []
  },
  {
   "cell_type": "code",
   "execution_count": null,
   "metadata": {
    "collapsed": true
   },
   "outputs": [],
   "source": []
  }
 ],
 "metadata": {
  "kernelspec": {
   "display_name": "Python 3",
   "language": "python",
   "name": "python3"
  },
  "language_info": {
   "codemirror_mode": {
    "name": "ipython",
    "version": 3
   },
   "file_extension": ".py",
   "mimetype": "text/x-python",
   "name": "python",
   "nbconvert_exporter": "python",
   "pygments_lexer": "ipython3",
   "version": "3.6.3"
  }
 },
 "nbformat": 4,
 "nbformat_minor": 2
}
