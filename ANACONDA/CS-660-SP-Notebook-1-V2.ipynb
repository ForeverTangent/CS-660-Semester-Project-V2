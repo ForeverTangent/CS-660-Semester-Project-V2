{
 "cells": [
  {
   "cell_type": "markdown",
   "metadata": {},
   "source": [
    "# CS-660 Semester Project Notebook 1\n",
    "\n",
    "## Stan Rosenbaum\n",
    "\n",
    "Fall 2017\n",
    "\n",
    "Anaconda 5 / Python 3\n",
    "\n",
    "Using Keras with TensorFlow as back end.\n"
   ]
  },
  {
   "cell_type": "markdown",
   "metadata": {},
   "source": [
    "First we init stuff."
   ]
  },
  {
   "cell_type": "code",
   "execution_count": 1,
   "metadata": {},
   "outputs": [
    {
     "name": "stderr",
     "output_type": "stream",
     "text": [
      "Using TensorFlow backend.\n"
     ]
    },
    {
     "name": "stdout",
     "output_type": "stream",
     "text": [
      "CS660DataManagementCheck Imported\n"
     ]
    }
   ],
   "source": [
    "# Load the Basic Python Libraries\n",
    "import os\n",
    "import csv\n",
    "import PIL\n",
    "import pickle\n",
    "import random\n",
    "import datetime\n",
    "\n",
    "# Load my Data Management Module\n",
    "import CS660DataManagement as csDM\n",
    "\n",
    "# load numpy\n",
    "import numpy as np\n",
    "\n",
    "# Load Keras Studd\n",
    "from keras import layers\n",
    "from keras.layers import Input, Dense, Activation, ZeroPadding2D, BatchNormalization, Flatten, Conv2D\n",
    "from keras.layers import AveragePooling2D, MaxPooling2D, Dropout, GlobalMaxPooling2D, GlobalAveragePooling2D\n",
    "from keras.models import Model, Sequential\n",
    "from keras.preprocessing import image\n",
    "from keras.utils import layer_utils\n",
    "from keras.utils.data_utils import get_file\n",
    "from keras.applications.imagenet_utils import preprocess_input\n",
    "from keras.utils.vis_utils import model_to_dot\n",
    "from keras.utils import plot_model\n",
    "from keras.initializers import glorot_uniform\n",
    "\n",
    "from keras.callbacks import TensorBoard\n",
    "\n",
    "from keras.utils.np_utils import to_categorical\n",
    "\n",
    "\n",
    "\n",
    "# Other\n",
    "import pydot\n",
    "from IPython.display import SVG\n",
    "\n",
    "\n",
    "# Not sure what this is:\n",
    "# from kt_utils import *\n",
    "\n",
    "import keras.backend as K\n",
    "K.set_image_data_format('channels_last')\n",
    "import matplotlib.pyplot as plt\n",
    "from matplotlib.pyplot import imshow\n",
    "\n",
    "%matplotlib inline\n",
    "\n",
    "# Get Processed Data Directory.\n",
    "processedDataDir = os.path.join( os.getcwd(), os.pardir, 'DATA', 'PROCESSED' )\n",
    "combinedDataDir = os.path.join( os.getcwd(), os.pardir, 'DATA', 'COMBINED' )\n",
    "pickleDataDir = os.path.join( os.getcwd(), os.pardir, 'DATA', 'PICKLES' )\n",
    "\n",
    "testImageColorFile = os.path.join( os.getcwd(), os.pardir, 'DATA', 'COMBINED', 'ICOLOR', 'TEST.png' )\n",
    "testImageDepthFile = os.path.join( os.getcwd(), os.pardir, 'DATA', 'COMBINED', 'IDEPTH', 'TEST.png' )\n",
    "testCSVFile = os.path.join( os.getcwd(), os.pardir, 'DATA', 'COMBINED', 'PCLOUD', 'TEST.csv' )\n",
    "\n",
    "combinedDataDir = os.path.join( os.getcwd(), os.pardir, 'DATA', 'COMBINED' )\n",
    "\n",
    "imageDirs = ['ICOLOR', 'IDEPTH']\n",
    "csvDirs = ['PCLOUD']\n",
    "\n",
    "allDataFlavors = imageDirs + csvDirs\n",
    "\n",
    "#Load main data file.\n",
    "searCSVInfoFile = os.path.join( combinedDataDir, 'SEAR_DC_INFO.csv' )\n",
    "\n",
    "csDM.CS660DataManagementCheck()"
   ]
  },
  {
   "cell_type": "markdown",
   "metadata": {},
   "source": [
    "## Generate the Learning and Verification sets"
   ]
  },
  {
   "cell_type": "code",
   "execution_count": 2,
   "metadata": {},
   "outputs": [
    {
     "name": "stdout",
     "output_type": "stream",
     "text": [
      "901\n",
      "Number of Everything\n",
      "UPs: 278\n",
      "DOWNs: 201\n",
      "NAs: 204\n",
      "HOLEs: 218\n"
     ]
    }
   ],
   "source": [
    "print( len( csDM.getListOfDataCSVFileKeys() ) )\n",
    "csDM.reportStats()\n",
    "#csDM.createLearningAndVerificationPickles()\n"
   ]
  },
  {
   "cell_type": "markdown",
   "metadata": {},
   "source": [
    "### Load a Training Set.\n",
    "#### (Basing this all on the Coursera Course Code)\n",
    "\n"
   ]
  },
  {
   "cell_type": "code",
   "execution_count": 3,
   "metadata": {},
   "outputs": [
    {
     "name": "stdout",
     "output_type": "stream",
     "text": [
      "number of training examples = 100\n",
      "number of test examples = 20\n",
      "X_train shape: (100, 480, 640, 1)\n",
      "Y_train shape: (100, 1)\n",
      "y_train_binary shape: (100, 4)\n",
      "X_test shape: (20, 480, 640, 1)\n",
      "Y_test shape: (20, 1)\n",
      "y_test_binary shape: (20, 4)\n"
     ]
    }
   ],
   "source": [
    "def reshape(trainingSet):\n",
    "    \"\"\"\n",
    "    This is to add the 'Channels' Dimension for Keras.\n",
    "    \"\"\"\n",
    "    getShape = trainingSet.shape\n",
    "    newShape = getShape + (1,)\n",
    "    return trainingSet.reshape(newShape)\n",
    "    \n",
    "\n",
    "X_train, Y_train, X_test, Y_test = csDM.load_dataset( '1', 'ICOLOR' )\n",
    "\n",
    "\n",
    "\n",
    "print (\"number of training examples = \" + str(X_train.shape[0]))\n",
    "print (\"number of test examples = \" + str(X_test.shape[0]))\n",
    "\n",
    "X_train = reshape(X_train)\n",
    "X_test = reshape(X_test)\n",
    "\n",
    "y_train_binary = to_categorical(Y_train, 4)\n",
    "y_test_binary = to_categorical(Y_test, 4)\n",
    "\n",
    "print (\"X_train shape: \" + str(X_train.shape))\n",
    "print (\"Y_train shape: \" + str(Y_train.shape))\n",
    "print (\"y_train_binary shape: \" + str(y_train_binary.shape))\n",
    "print (\"X_test shape: \" + str(X_test.shape))\n",
    "print (\"Y_test shape: \" + str(Y_test.shape))\n",
    "print (\"y_test_binary shape: \" + str(y_test_binary.shape))\n",
    "\n"
   ]
  },
  {
   "cell_type": "markdown",
   "metadata": {},
   "source": [
    "## 2 - Building a model in Keras\n",
    "\n"
   ]
  },
  {
   "cell_type": "code",
   "execution_count": 58,
   "metadata": {},
   "outputs": [
    {
     "name": "stdout",
     "output_type": "stream",
     "text": [
      "CS660DataManagementCheck Imported\n"
     ]
    }
   ],
   "source": [
    "csDM.CS660DataManagementCheck()"
   ]
  },
  {
   "cell_type": "code",
   "execution_count": 8,
   "metadata": {},
   "outputs": [
    {
     "name": "stdout",
     "output_type": "stream",
     "text": [
      "x_train shape: (100, 480, 640, 1)\n",
      "100 train samples\n",
      "20 test samples\n",
      "x_train shape: (100, 480, 640, 1)\n",
      "(100, 4) y_train shape\n",
      "(20, 4) y_test shape\n",
      "Train on 100 samples, validate on 20 samples\n",
      "Epoch 1/25\n",
      "100/100 [==============================] - 16s - loss: 2.4684 - categorical_accuracy: 0.2300 - val_loss: 1.7481 - val_categorical_accuracy: 0.3000\n",
      "Epoch 2/25\n",
      "100/100 [==============================] - 15s - loss: 1.4789 - categorical_accuracy: 0.3200 - val_loss: 1.1961 - val_categorical_accuracy: 0.2500\n",
      "Epoch 3/25\n",
      "100/100 [==============================] - 15s - loss: 1.2068 - categorical_accuracy: 0.3000 - val_loss: 1.1349 - val_categorical_accuracy: 0.4500\n",
      "Epoch 4/25\n",
      "100/100 [==============================] - 16s - loss: 0.9341 - categorical_accuracy: 0.9000 - val_loss: 0.9665 - val_categorical_accuracy: 0.6000\n",
      "Epoch 5/25\n",
      "100/100 [==============================] - 15s - loss: 0.3578 - categorical_accuracy: 0.9500 - val_loss: 1.2211 - val_categorical_accuracy: 0.5000\n",
      "Epoch 6/25\n",
      "100/100 [==============================] - 15s - loss: 0.1058 - categorical_accuracy: 0.9700 - val_loss: 1.7595 - val_categorical_accuracy: 0.4000\n",
      "Epoch 7/25\n",
      "100/100 [==============================] - 15s - loss: 0.0310 - categorical_accuracy: 1.0000 - val_loss: 1.8798 - val_categorical_accuracy: 0.5000\n",
      "Epoch 8/25\n",
      "100/100 [==============================] - 15s - loss: 0.0440 - categorical_accuracy: 0.9900 - val_loss: 2.4070 - val_categorical_accuracy: 0.3000\n",
      "Epoch 9/25\n",
      "100/100 [==============================] - 15s - loss: 0.1357 - categorical_accuracy: 0.9600 - val_loss: 1.5045 - val_categorical_accuracy: 0.5000\n",
      "Epoch 10/25\n",
      "100/100 [==============================] - 15s - loss: 0.0422 - categorical_accuracy: 0.9900 - val_loss: 2.1264 - val_categorical_accuracy: 0.4500\n",
      "Epoch 11/25\n",
      "100/100 [==============================] - 15s - loss: 0.0229 - categorical_accuracy: 1.0000 - val_loss: 1.8282 - val_categorical_accuracy: 0.4500\n",
      "Epoch 12/25\n",
      "100/100 [==============================] - 15s - loss: 0.0047 - categorical_accuracy: 1.0000 - val_loss: 3.2574 - val_categorical_accuracy: 0.3500\n",
      "Epoch 13/25\n",
      "100/100 [==============================] - 15s - loss: 0.0060 - categorical_accuracy: 1.0000 - val_loss: 2.9475 - val_categorical_accuracy: 0.4500\n",
      "Epoch 14/25\n",
      "100/100 [==============================] - 15s - loss: 0.0018 - categorical_accuracy: 1.0000 - val_loss: 3.1348 - val_categorical_accuracy: 0.4000\n",
      "Epoch 15/25\n",
      "100/100 [==============================] - 15s - loss: 0.0023 - categorical_accuracy: 1.0000 - val_loss: 2.9994 - val_categorical_accuracy: 0.4500\n",
      "Epoch 16/25\n",
      "100/100 [==============================] - 15s - loss: 0.0010 - categorical_accuracy: 1.0000 - val_loss: 3.1995 - val_categorical_accuracy: 0.4500\n",
      "Epoch 17/25\n",
      "100/100 [==============================] - 15s - loss: 3.9205e-04 - categorical_accuracy: 1.0000 - val_loss: 3.4173 - val_categorical_accuracy: 0.4500\n",
      "Epoch 18/25\n",
      "100/100 [==============================] - 15s - loss: 1.7321e-04 - categorical_accuracy: 1.0000 - val_loss: 3.6260 - val_categorical_accuracy: 0.4500\n",
      "Epoch 19/25\n",
      "100/100 [==============================] - 15s - loss: 8.7582e-05 - categorical_accuracy: 1.0000 - val_loss: 3.7806 - val_categorical_accuracy: 0.4500\n",
      "Epoch 20/25\n",
      "100/100 [==============================] - 15s - loss: 4.6261e-05 - categorical_accuracy: 1.0000 - val_loss: 3.8809 - val_categorical_accuracy: 0.4500\n",
      "Epoch 21/25\n",
      "100/100 [==============================] - 15s - loss: 3.0105e-05 - categorical_accuracy: 1.0000 - val_loss: 3.9670 - val_categorical_accuracy: 0.5000\n",
      "Epoch 22/25\n",
      "100/100 [==============================] - 15s - loss: 2.3132e-05 - categorical_accuracy: 1.0000 - val_loss: 4.0212 - val_categorical_accuracy: 0.4500\n",
      "Epoch 23/25\n",
      "100/100 [==============================] - 15s - loss: 1.9497e-05 - categorical_accuracy: 1.0000 - val_loss: 4.0593 - val_categorical_accuracy: 0.4500\n",
      "Epoch 24/25\n",
      "100/100 [==============================] - 15s - loss: 1.6279e-05 - categorical_accuracy: 1.0000 - val_loss: 4.0886 - val_categorical_accuracy: 0.4500\n",
      "Epoch 25/25\n",
      "100/100 [==============================] - 15s - loss: 1.4343e-05 - categorical_accuracy: 1.0000 - val_loss: 4.1149 - val_categorical_accuracy: 0.5000\n"
     ]
    },
    {
     "data": {
      "text/plain": [
       "<keras.callbacks.History at 0x11af15dd8>"
      ]
     },
     "execution_count": 8,
     "metadata": {},
     "output_type": "execute_result"
    }
   ],
   "source": [
    "import keras\n",
    "from quiver_engine import server\n",
    "\n",
    "# input image dimensions\n",
    "img_rows, img_cols = 480, 640\n",
    "\n",
    "num_classes = 4\n",
    "\n",
    "x_train, y_train, x_test, y_test = csDM.load_dataset( '1', 'ICOLOR' )\n",
    "\n",
    "x_train = x_train.reshape(x_train.shape[0], img_rows, img_cols, 1)\n",
    "x_test = x_test.reshape(x_test.shape[0], img_rows, img_cols, 1)\n",
    "input_shape = (img_rows, img_cols, 1)\n",
    "\n",
    "x_train = x_train.astype('float32')\n",
    "x_test = x_test.astype('float32')\n",
    "print('x_train shape:', x_train.shape)\n",
    "print(x_train.shape[0], 'train samples')\n",
    "print(x_test.shape[0], 'test samples')\n",
    "\n",
    "# convert class vectors to binary class matrices\n",
    "y_train_as_category = to_categorical(y_train, num_classes)\n",
    "y_test_as_category = to_categorical(y_test, num_classes)\n",
    "\n",
    "\n",
    "x_train = x_train.astype('float32')\n",
    "x_test = x_test.astype('float32')\n",
    "print('x_train shape:', x_train.shape)\n",
    "print(y_train_as_category.shape, 'y_train shape')\n",
    "print(y_test_as_category.shape, 'y_test shape')\n",
    "\n",
    "\n",
    "\n",
    "model = Sequential()\n",
    "model.add(\n",
    "    Conv2D(5, \n",
    "           kernel_size=(5, 5),\n",
    "           activation='relu',\n",
    "           input_shape=input_shape\n",
    "          )\n",
    ")\n",
    "model.add(MaxPooling2D(pool_size=(2, 2)))\n",
    "model.add(\n",
    "    Conv2D(\n",
    "        10, \n",
    "        kernel_size=(2, 2), \n",
    "        activation='relu')\n",
    ")\n",
    "model.add(MaxPooling2D(pool_size=(3, 3)))\n",
    "model.add(Flatten())\n",
    "model.add(Dense(512, activation='relu'))\n",
    "# model.add(Dropout(0.25))\n",
    "model.add(Dense(512, activation='relu'))\n",
    "# model.add(Dropout(0.25))\n",
    "model.add(Dense(512, activation='relu'))\n",
    "# model.add(Dropout(0.25))\n",
    "\n",
    "model.add(Dense(num_classes, activation='softmax'))\n",
    "\n",
    "model.compile(\n",
    "    loss=keras.losses.categorical_crossentropy,\n",
    "    optimizer=keras.optimizers.Adam(),\n",
    "    metrics=['categorical_accuracy']\n",
    ")\n",
    "\n",
    "# server.launch(model)\n",
    "\n",
    "TBoardCallback = keras.callbacks.TensorBoard(\n",
    "    log_dir='../TENSOR_LOGS/run_test', \n",
    "    histogram_freq=0,\n",
    "    write_graph=True,\n",
    "    write_images=True\n",
    ")\n",
    "\n",
    "model.fit(x_train,\n",
    "          y_train_as_category,\n",
    "          batch_size=16,\n",
    "          epochs=25,\n",
    "          verbose=1,\n",
    "          validation_data=(x_test, y_test_as_category),\n",
    "          callbacks = [TBoardCallback]\n",
    "         )\n",
    "\n"
   ]
  },
  {
   "cell_type": "code",
   "execution_count": 5,
   "metadata": {},
   "outputs": [
    {
     "name": "stdout",
     "output_type": "stream",
     "text": [
      "Test loss: 12.0885715485\n",
      "Test accuracy: 0.25\n",
      "Saved model to disk\n"
     ]
    }
   ],
   "source": [
    "score = model.evaluate(x_test, y_test_as_category, verbose=0)\n",
    "print('Test loss:', score[0])\n",
    "print('Test accuracy:', score[1])\n",
    "\n",
    "# serialize model to JSON\n",
    "model_json = model.to_json()\n",
    "with open(\"../MODELS/modelTEST.json\", \"w\") as json_file:\n",
    "    json_file.write(model_json)\n",
    "# serialize weights to HDF5\n",
    "model.save_weights(\"../WEIGHTS/modelTEST.h5\")\n",
    "print(\"Saved model to disk\")"
   ]
  },
  {
   "cell_type": "code",
   "execution_count": 7,
   "metadata": {},
   "outputs": [
    {
     "name": "stdout",
     "output_type": "stream",
     "text": [
      "(20, 480, 640, 1)\n",
      "20/20 [==============================] - 0s\n",
      "[2 2 2 2 2 2 2 2 2 2 2 2 2 2 2 2 2 2 2 2]\n",
      "prediction of:  2  VS  [ 2.]\n",
      "prediction of:  2  VS  [ 2.]\n",
      "prediction of:  2  VS  [ 1.]\n",
      "prediction of:  2  VS  [ 2.]\n",
      "prediction of:  2  VS  [ 1.]\n",
      "prediction of:  2  VS  [ 1.]\n",
      "prediction of:  2  VS  [ 2.]\n",
      "prediction of:  2  VS  [ 0.]\n",
      "prediction of:  2  VS  [ 1.]\n",
      "prediction of:  2  VS  [ 1.]\n",
      "prediction of:  2  VS  [ 2.]\n",
      "prediction of:  2  VS  [ 3.]\n",
      "prediction of:  2  VS  [ 3.]\n",
      "prediction of:  2  VS  [ 3.]\n",
      "prediction of:  2  VS  [ 3.]\n",
      "prediction of:  2  VS  [ 3.]\n",
      "prediction of:  2  VS  [ 0.]\n",
      "prediction of:  2  VS  [ 0.]\n",
      "prediction of:  2  VS  [ 0.]\n",
      "prediction of:  2  VS  [ 0.]\n"
     ]
    }
   ],
   "source": [
    "# Predict\n",
    "print(x_test.shape)\n",
    "results = model.predict_classes(x_test, verbose=1)\n",
    "print(asdf)\n",
    "for index in range(len(x_test)):\n",
    "    print('prediction of: ', results[index], \" VS \", y_test[index])\n",
    "\n"
   ]
  },
  {
   "cell_type": "code",
   "execution_count": 5,
   "metadata": {},
   "outputs": [
    {
     "data": {
      "text/plain": [
       "'/Users/staque/Development/GitHub/CS-660-Semester-Project/ANACONDA'"
      ]
     },
     "execution_count": 5,
     "metadata": {},
     "output_type": "execute_result"
    }
   ],
   "source": [
    "os.getcwd()"
   ]
  },
  {
   "cell_type": "code",
   "execution_count": 6,
   "metadata": {},
   "outputs": [
    {
     "name": "stdout",
     "output_type": "stream",
     "text": [
      "Saved model to disk\n"
     ]
    }
   ],
   "source": []
  },
  {
   "cell_type": "code",
   "execution_count": null,
   "metadata": {
    "collapsed": true
   },
   "outputs": [],
   "source": []
  }
 ],
 "metadata": {
  "kernelspec": {
   "display_name": "Python 3",
   "language": "python",
   "name": "python3"
  },
  "language_info": {
   "codemirror_mode": {
    "name": "ipython",
    "version": 3
   },
   "file_extension": ".py",
   "mimetype": "text/x-python",
   "name": "python",
   "nbconvert_exporter": "python",
   "pygments_lexer": "ipython3",
   "version": "3.6.3"
  }
 },
 "nbformat": 4,
 "nbformat_minor": 2
}
